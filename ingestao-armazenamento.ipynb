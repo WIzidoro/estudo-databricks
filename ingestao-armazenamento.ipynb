{
 "cells": [
  {
   "cell_type": "code",
   "execution_count": 0,
   "metadata": {
    "application/vnd.databricks.v1+cell": {
     "cellMetadata": {
      "byteLimit": 2048000,
      "rowLimit": 10000
     },
     "inputWidgets": {},
     "nuid": "78fb5b0f-e19e-4af3-ba5e-1d42cd5845f4",
     "showTitle": false,
     "tableResultSettingsMap": {},
     "title": ""
    }
   },
   "outputs": [
    {
     "output_type": "stream",
     "name": "stdout",
     "output_type": "stream",
     "text": [
      "           data valor\n0    01/02/1995  3.09\n1    01/03/1995  3.83\n2    01/04/1995  4.29\n3    01/05/1995  6.91\n4    01/06/1995  4.38\n..          ...   ...\n355  01/09/2024  0.15\n356  01/10/2024  0.35\n357  01/11/2024  0.83\n358  01/12/2024  0.66\n359  01/01/2025  0.78\n\n[360 rows x 2 columns]\n"
     ]
    }
   ],
   "source": [
    "\"\"\"\n",
    "Script escrito em Python com a finalidade de obter os dados do IPCA via da API do Banco Central, armazenamento de DataLake do Databricks por meio da linguagem SQL, permitindo\n",
    "a conexão com ferramentas de SelfService BI, que neste caso será o Power BI.\n",
    "\n",
    "O Objetivo é entregar uma ferramenta de análise da inflação cujo processo esteja todo automatizado, permitindo que o demandante \n",
    "consiga tomar decisões de forma tempestiva.\n",
    "\n",
    "O código foi escrito diretamente no notebook da ferramenta Databricks Community Edition, cujos pacotes utilizados já são pré-instalados.\n",
    "\n",
    "Dependências Python\n",
    "-------------------\n",
    "- pandas\n",
    "- requests\n",
    "- datetime\n",
    "- pyspark\n",
    "\n",
    "Ordem de Execução\n",
    "-----------------\n",
    "- Importa os pacotes necessários.\n",
    "- Define a data inicial e final para a consulta de dados na API.\n",
    "- Armazena a URL da API na variável url.\n",
    "- Faz a requisição HTTP para a API e processa a resposta.\n",
    "- Converte os dados da resposta em um DataFrame do pandas.\n",
    "- Trata possíveis exceções durante a requisição.\n",
    "- Cria uma sessão Spark.\n",
    "- Ajusta os tipos de dados.\n",
    "- Converte o DataFrame do Pandas para DaraFrame Spark\n",
    "- Salva os dados internamente via Spark e define o caminho/path.\n",
    "- Verifica se existe a tabela ipca_delta e caso não ela é criadano caminho/path anterior.\n",
    "- Realiza consulta simples ao Data Lake para confirmar se a tabela foi criada com sucesso.\n",
    "\n",
    "\"\"\"\n",
    "# Importação dos pacotes\n",
    "import pandas as pd\n",
    "import requests\n",
    "from datetime import datetime, timedelta\n",
    "from pyspark.sql import SparkSession\n",
    "from pyspark.sql.functions import col, date_format\n",
    "\n",
    "# Define a data inicial e final para a consulta de dados na API.\n",
    "hoje = datetime.today()\n",
    "data_inicial = (hoje - timedelta(days=30*365)).strftime('%d/%m/%Y')\n",
    "data_final = hoje.strftime('%d/%m/%Y')\n",
    "\n",
    "# Armazena a URL da API em variável Python\n",
    "url = f\"https://api.bcb.gov.br/dados/serie/bcdata.sgs.10844/dados?formato=json&dataInicial={data_inicial}&dataFinal={data_final}\"\n",
    "\n",
    "try:\n",
    "    # Envia a requsição para a API\n",
    "    resp = requests.get(url)\n",
    "    resp.raise_for_status()  # Levanta um erro para códigos de status de resposta HTTP diferentes de 200\n",
    "    dados = resp.json()\n",
    "    df_ipca = pd.DataFrame(dados)    \n",
    "    print(df_ipca)\n",
    "except requests.exceptions.RequestException as e:\n",
    "    # Informa exceções específicas de requisição HTTP\n",
    "    print(f\"Erro na solicitação HTTP: {e}\")\n",
    "except Exception as e:\n",
    "    # Informa outras exceções\n",
    "    print(f\"Outro erro ocorreu: {e}\")\n",
    "\n",
    "\n"
   ]
  },
  {
   "cell_type": "code",
   "execution_count": 0,
   "metadata": {
    "application/vnd.databricks.v1+cell": {
     "cellMetadata": {},
     "inputWidgets": {},
     "nuid": "ad7d5d64-4e1f-4406-8778-408adce84a89",
     "showTitle": false,
     "tableResultSettingsMap": {},
     "title": ""
    }
   },
   "outputs": [],
   "source": [
    "# Verifica os tipos de dados do DataFrame\n",
    "df_ipca.info()"
   ]
  },
  {
   "cell_type": "code",
   "execution_count": 0,
   "metadata": {
    "application/vnd.databricks.v1+cell": {
     "cellMetadata": {
      "byteLimit": 2048000,
      "rowLimit": 10000
     },
     "inputWidgets": {},
     "nuid": "5a958681-d19b-4901-9d2e-ff70a16cca54",
     "showTitle": false,
     "tableResultSettingsMap": {},
     "title": ""
    }
   },
   "outputs": [
    {
     "output_type": "stream",
     "name": "stdout",
     "output_type": "stream",
     "text": [
      "Dados do IPCA salvos com sucesso no Data Lake\n+----------+-----+\n|      data|valor|\n+----------+-----+\n|01/02/1995| 3.09|\n|01/03/1995| 3.83|\n|01/04/1995| 4.29|\n|01/05/1995| 6.91|\n|01/06/1995| 4.38|\n|01/07/1995|  3.9|\n|01/08/1995| 3.31|\n|01/09/1995| 2.85|\n|01/10/1995| 2.47|\n|01/11/1995| 2.71|\n|01/12/1995| 2.28|\n|01/01/1996|  2.2|\n|01/02/1996| 2.32|\n|01/03/1996| 1.63|\n|01/04/1996|  1.4|\n|01/05/1996| 2.21|\n|01/06/1996| 1.54|\n|01/07/1996| 1.41|\n|01/08/1996| 1.43|\n|01/09/1996| 1.02|\n+----------+-----+\nonly showing top 20 rows\n\n"
     ]
    }
   ],
   "source": [
    "# Cria a sessão Spark\n",
    "spark = SparkSession.builder.appName(\"IPCA_DeltaLake\").getOrCreate()\n",
    "\n",
    "# Ajusta os tipos de dados no DataFrame\n",
    "df_ipca[\"data\"] = pd.to_datetime(df_ipca[\"data\"], format= \"%d/%m/%Y\")\n",
    "df_ipca[\"valor\"] = df_ipca[\"valor\"].astype(float)\n",
    "\n",
    "# Converse o DataFrame do Pandas para Spark\n",
    "df_spark = spark.createDataFrame(df_ipca)\n",
    "\n",
    "# Define o caminho do Data Lake\n",
    "delta_path = 'dbfs:/mnt/delta/ipca'\n",
    "\n",
    "# Salva os arquivos no Data Lake\n",
    "df_spark.write.format(\"delta\").mode(\"overwrite\").save(delta_path)\n",
    "print(\"Dados do IPCA salvos com sucesso no Data Lake\")\n"
   ]
  },
  {
   "cell_type": "code",
   "execution_count": 0,
   "metadata": {
    "application/vnd.databricks.v1+cell": {
     "cellMetadata": {
      "byteLimit": 2048000,
      "implicitDf": true,
      "rowLimit": 10000
     },
     "inputWidgets": {},
     "nuid": "0ac28842-7473-48db-b5cd-8900f4ba0af3",
     "showTitle": false,
     "tableResultSettingsMap": {},
     "title": ""
    }
   },
   "outputs": [
    {
     "output_type": "display_data",
     "data": {
      "text/html": [
       "<style scoped>\n",
       "  .table-result-container {\n",
       "    max-height: 300px;\n",
       "    overflow: auto;\n",
       "  }\n",
       "  table, th, td {\n",
       "    border: 1px solid black;\n",
       "    border-collapse: collapse;\n",
       "  }\n",
       "  th, td {\n",
       "    padding: 5px;\n",
       "  }\n",
       "  th {\n",
       "    text-align: left;\n",
       "  }\n",
       "</style><div class='table-result-container'><table class='table-result'><thead style='background-color: white'><tr></tr></thead><tbody></tbody></table></div>"
      ]
     },
     "metadata": {
      "application/vnd.databricks.v1+output": {
       "addedWidgets": {},
       "aggData": [],
       "aggError": "",
       "aggOverflow": false,
       "aggSchema": [],
       "aggSeriesLimitReached": false,
       "aggType": "",
       "arguments": {},
       "columnCustomDisplayInfos": {},
       "data": [],
       "datasetInfos": [],
       "dbfsResultPath": null,
       "isJsonSchema": true,
       "metadata": {},
       "overflow": false,
       "plotOptions": {
        "customPlotOptions": {},
        "displayType": "table",
        "pivotAggregation": null,
        "pivotColumns": null,
        "xColumns": null,
        "yColumns": null
       },
       "removedWidgets": [],
       "schema": [],
       "type": "table"
      }
     },
     "output_type": "display_data"
    }
   ],
   "source": [
    "%sql\n",
    "\n",
    "-- Verifica se existe a tabela ipca_delta e caso não ela é criada\n",
    "CREATE TABLE IF NOT EXISTS ipca_delta\n",
    "USING DELTA\n",
    "LOCATION 'dbfs:/mnt/delta/ipca'"
   ]
  },
  {
   "cell_type": "code",
   "execution_count": 0,
   "metadata": {
    "application/vnd.databricks.v1+cell": {
     "cellMetadata": {
      "byteLimit": 2048000,
      "implicitDf": true,
      "rowLimit": 10000
     },
     "inputWidgets": {},
     "nuid": "c17eea22-ce4c-4f1b-ad4d-045162d5592c",
     "showTitle": false,
     "tableResultSettingsMap": {},
     "title": ""
    }
   },
   "outputs": [
    {
     "output_type": "display_data",
     "data": {
      "text/html": [
       "<style scoped>\n",
       "  .table-result-container {\n",
       "    max-height: 300px;\n",
       "    overflow: auto;\n",
       "  }\n",
       "  table, th, td {\n",
       "    border: 1px solid black;\n",
       "    border-collapse: collapse;\n",
       "  }\n",
       "  th, td {\n",
       "    padding: 5px;\n",
       "  }\n",
       "  th {\n",
       "    text-align: left;\n",
       "  }\n",
       "</style><div class='table-result-container'><table class='table-result'><thead style='background-color: white'><tr><th>data</th><th>valor</th></tr></thead><tbody><tr><td>2025-01-01T00:00:00.000+0000</td><td>0.78</td></tr><tr><td>2024-12-01T00:00:00.000+0000</td><td>0.66</td></tr><tr><td>2024-11-01T00:00:00.000+0000</td><td>0.83</td></tr><tr><td>2024-10-01T00:00:00.000+0000</td><td>0.35</td></tr><tr><td>2024-09-01T00:00:00.000+0000</td><td>0.15</td></tr><tr><td>2024-08-01T00:00:00.000+0000</td><td>0.24</td></tr><tr><td>2024-07-01T00:00:00.000+0000</td><td>0.75</td></tr><tr><td>2024-06-01T00:00:00.000+0000</td><td>0.04</td></tr><tr><td>2024-05-01T00:00:00.000+0000</td><td>0.4</td></tr><tr><td>2024-04-01T00:00:00.000+0000</td><td>0.05</td></tr></tbody></table></div>"
      ]
     },
     "metadata": {
      "application/vnd.databricks.v1+output": {
       "addedWidgets": {},
       "aggData": [],
       "aggError": "",
       "aggOverflow": false,
       "aggSchema": [],
       "aggSeriesLimitReached": false,
       "aggType": "",
       "arguments": {},
       "columnCustomDisplayInfos": {},
       "data": [
        [
         "2025-01-01T00:00:00.000+0000",
         0.78
        ],
        [
         "2024-12-01T00:00:00.000+0000",
         0.66
        ],
        [
         "2024-11-01T00:00:00.000+0000",
         0.83
        ],
        [
         "2024-10-01T00:00:00.000+0000",
         0.35
        ],
        [
         "2024-09-01T00:00:00.000+0000",
         0.15
        ],
        [
         "2024-08-01T00:00:00.000+0000",
         0.24
        ],
        [
         "2024-07-01T00:00:00.000+0000",
         0.75
        ],
        [
         "2024-06-01T00:00:00.000+0000",
         0.04
        ],
        [
         "2024-05-01T00:00:00.000+0000",
         0.4
        ],
        [
         "2024-04-01T00:00:00.000+0000",
         0.05
        ]
       ],
       "datasetInfos": [],
       "dbfsResultPath": null,
       "isJsonSchema": true,
       "metadata": {},
       "overflow": false,
       "plotOptions": {
        "customPlotOptions": {},
        "displayType": "table",
        "pivotAggregation": null,
        "pivotColumns": null,
        "xColumns": null,
        "yColumns": null
       },
       "removedWidgets": [],
       "schema": [
        {
         "metadata": "{}",
         "name": "data",
         "type": "\"timestamp\""
        },
        {
         "metadata": "{}",
         "name": "valor",
         "type": "\"double\""
        }
       ],
       "type": "table"
      }
     },
     "output_type": "display_data"
    }
   ],
   "source": [
    "%sql\n",
    "-- Consulta para chegagem dos dados armazenados na tabela\n",
    "SELECT * FROM ipca_delta \n",
    "ORDER BY data DESC\n",
    "LIMIT 10"
   ]
  }
 ],
 "metadata": {
  "application/vnd.databricks.v1+notebook": {
   "computePreferences": null,
   "dashboards": [],
   "environmentMetadata": {
    "base_environment": "",
    "client": "1"
   },
   "language": "python",
   "notebookMetadata": {
    "mostRecentlyExecutedCommandWithImplicitDF": {
     "commandId": 3001590486234794,
     "dataframes": [
      "_sqldf"
     ]
    },
    "pythonIndentUnit": 4
   },
   "notebookName": "ingestao-armazenamento",
   "widgets": {}
  }
 },
 "nbformat": 4,
 "nbformat_minor": 0
}
